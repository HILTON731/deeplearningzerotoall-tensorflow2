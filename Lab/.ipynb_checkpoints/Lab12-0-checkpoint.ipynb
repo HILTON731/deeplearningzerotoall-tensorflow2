{
 "cells": [
  {
   "cell_type": "code",
   "execution_count": 1,
   "metadata": {},
   "outputs": [],
   "source": [
    "import numpy as np\n",
    "import tensorflow as tf\n",
    "from tensorflow import keras\n",
    "from tensorflow.keras import layers"
   ]
  },
  {
   "cell_type": "code",
   "execution_count": 2,
   "metadata": {},
   "outputs": [
    {
     "name": "stdout",
     "output_type": "stream",
     "text": [
      "x_data: [[[1. 0. 0. 0.]]], shape: (1, 1, 4)\n",
      "outputs: [[[-0.6769671   0.39370754]]], shape: (1, 1, 2)\n",
      "states: [[-0.6769671   0.39370754]], shape: (1, 2)\n"
     ]
    }
   ],
   "source": [
    "h = [1, 0, 0, 0]\n",
    "e = [0, 1, 0, 0]\n",
    "l = [0, 0, 1, 0]\n",
    "o = [0, 0, 0, 1]\n",
    "\n",
    "x_data = np.array([[h]], dtype=np.float32)\n",
    "\n",
    "hidden_size = 2\n",
    "cell = layers.SimpleRNNCell(units=hidden_size)\n",
    "rnn = layers.RNN(cell, return_sequences=True, return_state=True)\n",
    "outputs, states = rnn(x_data)\n",
    "\n",
    "print('x_data: {}, shape: {}'.format(x_data, x_data.shape))\n",
    "print('outputs: {}, shape: {}'.format(outputs, outputs.shape)) # 전체 sequence에 대한 hidden state를 가짐\n",
    "print('states: {}, shape: {}'.format(states, states.shape)) # sequence의 마지막 hidden state값만 가짐"
   ]
  },
  {
   "cell_type": "code",
   "execution_count": 3,
   "metadata": {},
   "outputs": [
    {
     "name": "stdout",
     "output_type": "stream",
     "text": [
      "x_data: [[[1. 0. 0. 0.]]], shape: (1, 1, 4)\n",
      "outputs: [[[-0.46461886  0.24225494]]], shape: (1, 1, 2)\n",
      "states: [[-0.46461886  0.24225494]], shape: (1, 2)\n"
     ]
    }
   ],
   "source": [
    "rnn = layers.SimpleRNN(units=hidden_size, return_sequences=True, return_state=True)\n",
    "\n",
    "outputs, states = rnn(x_data)\n",
    "\n",
    "print('x_data: {}, shape: {}'.format(x_data, x_data.shape))\n",
    "print('outputs: {}, shape: {}'.format(outputs, outputs.shape))\n",
    "print('states: {}, shape: {}'.format(states, states.shape))"
   ]
  },
  {
   "cell_type": "code",
   "execution_count": 4,
   "metadata": {},
   "outputs": [
    {
     "name": "stdout",
     "output_type": "stream",
     "text": [
      "x_data: [[[1. 0. 0. 0.]\n",
      "  [0. 1. 0. 0.]\n",
      "  [0. 0. 1. 0.]\n",
      "  [0. 0. 1. 0.]\n",
      "  [0. 0. 0. 1.]]], shape: (1, 5, 4)\n",
      "outputs: [[[ 0.7214368   0.43147415]\n",
      "  [-0.31750193 -0.91831106]\n",
      "  [ 0.54049164 -0.6362509 ]\n",
      "  [ 0.22896896 -0.9178114 ]\n",
      "  [ 0.9330613  -0.8465527 ]]], shape: (1, 5, 2)\n",
      "states: [[ 0.9330613 -0.8465527]], shape: (1, 2)\n"
     ]
    }
   ],
   "source": [
    "x_data = np.array([[h, e, l, l, o]], dtype=np.float32)\n",
    "\n",
    "hidden_size = 2\n",
    "rnn = layers.SimpleRNN(units=2, return_sequences=True, return_state=True)\n",
    "outputs, states = rnn(x_data)\n",
    "\n",
    "print('x_data: {}, shape: {}'.format(x_data, x_data.shape))\n",
    "print('outputs: {}, shape: {}'.format(outputs, outputs.shape))\n",
    "print('states: {}, shape: {}'.format(states, states.shape))"
   ]
  },
  {
   "cell_type": "code",
   "execution_count": 5,
   "metadata": {},
   "outputs": [
    {
     "name": "stdout",
     "output_type": "stream",
     "text": [
      "x_data: [[[1. 0. 0. 0.]\n",
      "  [0. 1. 0. 0.]\n",
      "  [0. 0. 1. 0.]\n",
      "  [0. 0. 1. 0.]\n",
      "  [0. 0. 0. 1.]]\n",
      "\n",
      " [[0. 1. 0. 0.]\n",
      "  [0. 0. 0. 1.]\n",
      "  [0. 0. 1. 0.]\n",
      "  [0. 0. 1. 0.]\n",
      "  [0. 0. 1. 0.]]\n",
      "\n",
      " [[0. 0. 1. 0.]\n",
      "  [0. 0. 1. 0.]\n",
      "  [0. 1. 0. 0.]\n",
      "  [0. 1. 0. 0.]\n",
      "  [0. 0. 1. 0.]]], shape: (3, 5, 4)\n",
      "outputs: [[[ 0.4073835  -0.33896562]\n",
      "  [-0.12138614 -0.57624257]\n",
      "  [ 0.18612668  0.70635223]\n",
      "  [ 0.8530337   0.12055337]\n",
      "  [ 0.24738185 -0.43624818]]\n",
      "\n",
      " [[ 0.33041638 -0.38260302]\n",
      "  [-0.02240402  0.20094748]\n",
      "  [ 0.7035366   0.4631534 ]\n",
      "  [ 0.69125754 -0.26376837]\n",
      "  [ 0.17728078  0.00926492]]\n",
      "\n",
      " [[ 0.59101033  0.5039442 ]\n",
      "  [ 0.7304839  -0.17865594]\n",
      "  [-0.09183399 -0.7683397 ]\n",
      "  [-0.3248502  -0.03445167]\n",
      "  [ 0.6451584   0.7009913 ]]], shape: (3, 5, 2)\n",
      "states: [[ 0.24738185 -0.43624818]\n",
      " [ 0.17728078  0.00926492]\n",
      " [ 0.6451584   0.7009913 ]], shape: (3, 2)\n"
     ]
    }
   ],
   "source": [
    "x_data = np.array([[h, e, l, l, o],\n",
    "                   [e, o, l, l, l],\n",
    "                   [l, l, e, e, l]], dtype=np.float32)\n",
    "\n",
    "hidden_size = 2\n",
    "rnn = layers.SimpleRNN(units=2, return_sequences=True, return_state=True)\n",
    "outputs, states = rnn(x_data)\n",
    "\n",
    "print('x_data: {}, shape: {}'.format(x_data, x_data.shape))\n",
    "print('outputs: {}, shape: {}'.format(outputs, outputs.shape))\n",
    "print('states: {}, shape: {}'.format(states, states.shape))"
   ]
  },
  {
   "cell_type": "code",
   "execution_count": null,
   "metadata": {},
   "outputs": [],
   "source": []
  }
 ],
 "metadata": {
  "kernelspec": {
   "display_name": "Python 3",
   "language": "python",
   "name": "python3"
  },
  "language_info": {
   "codemirror_mode": {
    "name": "ipython",
    "version": 3
   },
   "file_extension": ".py",
   "mimetype": "text/x-python",
   "name": "python",
   "nbconvert_exporter": "python",
   "pygments_lexer": "ipython3",
   "version": "3.7.6"
  }
 },
 "nbformat": 4,
 "nbformat_minor": 4
}
